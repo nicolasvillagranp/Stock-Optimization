{
 "cells": [
  {
   "cell_type": "code",
   "execution_count": 7,
   "metadata": {},
   "outputs": [],
   "source": [
    "import pandas as pd\n",
    "import json"
   ]
  },
  {
   "cell_type": "markdown",
   "metadata": {},
   "source": [
    "#### Hay que tener siempre dos de las tres primeras celdas comentadas. La primera celda nos enseñará el ROI de lo que hubiera pasado en la realidad la segunda de lo que hubiera pasado sin constraints y la tercera de lo que pasaba segun el modelo."
   ]
  },
  {
   "cell_type": "code",
   "execution_count": 8,
   "metadata": {},
   "outputs": [
    {
     "name": "stdout",
     "output_type": "stream",
     "text": [
      "Empty DataFrame\n",
      "Columns: [s, a, t, Stocks Bought, Stocks Sold]\n",
      "Index: []\n",
      "Empty DataFrame\n",
      "Columns: [s, a, t, Stocks Bought, Stocks Sold]\n",
      "Index: []\n"
     ]
    }
   ],
   "source": [
    "df = pd.read_csv('resultados.csv')\n",
    "# Comprobamos el comportamiento\n",
    "print(df[(df['t'] == 6)&(df['Stocks Bought'] != 0)])\n",
    "print(df[(df['t'] == 1)&(df['Stocks Sold'] != 0)])\n",
    "price = {}\n",
    "sector_dict = json.load(open(\"reales.json\", \"r\"))\n",
    "for i in sector_dict:\n",
    "    cont = 0\n",
    "    for j in sector_dict[i]:\n",
    "        cont += 1\n",
    "        for k in range(1,7):\n",
    "            price[(i,cont,k)] = sector_dict[i][j][0][k-1]\n",
    "    for j in range(len(sector_dict[i])+1,30): # Relleno con ceros.\n",
    "        for k in range(1,7):\n",
    "            price[(i,j,k)] = 7-k"
   ]
  },
  {
   "cell_type": "code",
   "execution_count": 9,
   "metadata": {},
   "outputs": [],
   "source": [
    "# df = pd.read_csv('resultados_no_constraints.csv')\n",
    "# # Comprobamos el comportamiento\n",
    "# print(df[(df['t'] == 6)&(df['Stocks Bought'] != 0)])\n",
    "# print(df[(df['t'] == 1)&(df['Stocks Sold'] != 0)])\n",
    "# price = {}\n",
    "# sector_dict = json.load(open(\"reales.json\", \"r\"))\n",
    "# for i in sector_dict:\n",
    "#     cont = 0\n",
    "#     for j in sector_dict[i]:\n",
    "#         cont += 1\n",
    "#         for k in range(1,7):\n",
    "#             price[(i,cont,k)] = sector_dict[i][j][0][k-1]\n",
    "#     for j in range(len(sector_dict[i])+1,30): # Relleno con ceros.\n",
    "#         for k in range(1,7):\n",
    "#             price[(i,j,k)] = 7-k"
   ]
  },
  {
   "cell_type": "code",
   "execution_count": 10,
   "metadata": {},
   "outputs": [],
   "source": [
    "# price = {}\n",
    "# sector_dict = json.load(open(\"preparado_optimizador.json\", \"r\"))\n",
    "# for i in sector_dict:\n",
    "#     cont = 0\n",
    "#     for j in sector_dict[i]:\n",
    "#         cont += 1\n",
    "#         for k in range(1,7):\n",
    "#             price[(i,cont,k)] = sector_dict[i][j][0][k-1]\n",
    "#     for j in range(len(sector_dict[i])+1,30): # Relleno con ceros.\n",
    "#         for k in range(1,7):\n",
    "#             price[(i,j,k)] = 7-k"
   ]
  },
  {
   "cell_type": "code",
   "execution_count": 12,
   "metadata": {},
   "outputs": [],
   "source": [
    "#Nos quedamos unicamente con los que han comprado y vendido\n",
    "df = df[(df['Stocks Bought'] != 0)|(df['Stocks Sold'] != 0)]\n",
    "benef = 0\n",
    "for i in range(len(df)):\n",
    "    row = df.iloc[i]\n",
    "    if row['Stocks Bought'] != 0:\n",
    "        benef -= row['Stocks Bought']*price[(row['s'],row['a'],row['t'])]\n",
    "    if row['Stocks Sold'] != 0:\n",
    "        benef += row['Stocks Sold']*price[(row['s'],row['a'],row['t'])]"
   ]
  },
  {
   "cell_type": "code",
   "execution_count": 13,
   "metadata": {},
   "outputs": [
    {
     "name": "stdout",
     "output_type": "stream",
     "text": [
      "194.6106430381326\n"
     ]
    }
   ],
   "source": [
    "print(benef)"
   ]
  }
 ],
 "metadata": {
  "kernelspec": {
   "display_name": "gpu_tf",
   "language": "python",
   "name": "python3"
  },
  "language_info": {
   "codemirror_mode": {
    "name": "ipython",
    "version": 3
   },
   "file_extension": ".py",
   "mimetype": "text/x-python",
   "name": "python",
   "nbconvert_exporter": "python",
   "pygments_lexer": "ipython3",
   "version": "3.8.12"
  }
 },
 "nbformat": 4,
 "nbformat_minor": 2
}
