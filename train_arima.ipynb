{
 "cells": [
  {
   "cell_type": "code",
   "execution_count": 2,
   "metadata": {},
   "outputs": [],
   "source": [
    "import yfinance as yf\n",
    "import json\n",
    "import threading\n",
    "import pickle\n",
    "import warnings\n",
    "import numpy as np\n",
    "from statsmodels.tsa.statespace.sarimax import SARIMAX\n",
    "import itertools"
   ]
  },
  {
   "cell_type": "markdown",
   "metadata": {},
   "source": [
    "#### Entrenamiento de modelos ARIMA"
   ]
  },
  {
   "cell_type": "code",
   "execution_count": 3,
   "metadata": {},
   "outputs": [],
   "source": [
    "warnings.filterwarnings('ignore')"
   ]
  },
  {
   "cell_type": "code",
   "execution_count": 4,
   "metadata": {},
   "outputs": [],
   "source": [
    "# Read the companies.json file\n",
    "companies = json.load(open('companies.json'))\n",
    "health = [yf.Ticker(i).history(period='1d', start='2021-01-01', end='2021-12-31')[['Close','Volume']] for i in companies['Health']]\n",
    "banking = [yf.Ticker(i).history(period='1d', start='2021-01-01', end='2021-12-31')[['Close','Volume']] for i in companies['Banking']]\n",
    "technology = [yf.Ticker(i).history(period='1d', start='2021-01-01', end='2021-12-31')[['Close','Volume']] for i in companies['Technology']]\n",
    "renewable_energy = [yf.Ticker(i).history(period='1d', start='2021-01-01', end='2021-12-31')[['Close','Volume']] for i in companies['RenewableEnergies']]\n",
    "raw_materials = [yf.Ticker(i).history(period='1d', start='2021-01-01', end='2021-12-31')[['Close','Volume']] for i in companies['RawMaterials']]"
   ]
  },
  {
   "cell_type": "code",
   "execution_count": 5,
   "metadata": {},
   "outputs": [],
   "source": [
    "# Ejemplo concreto para la primera accion de Health, tendriamos que hacerlo para todas.\n",
    "tr_start,tr_end = '2021-01-01','2021-12-01'\n",
    "te_start,te_end = '2021-12-02','2021-12-31'"
   ]
  },
  {
   "cell_type": "code",
   "execution_count": 6,
   "metadata": {},
   "outputs": [],
   "source": [
    "lista = [0,1,2,3]\n",
    "posibles_coefs = list(itertools.combinations_with_replacement(lista, 3))\n",
    "def auto_arimax(posibles_coefs,tra,tes):\n",
    "    \"\"\"\n",
    "    This function calculates the best combination of parameters for a SARIMAX model based on MSE and coefs pvalues.\"\"\"\n",
    "    errores = [0]*len(posibles_coefs)\n",
    "    for j in range(len(posibles_coefs)): # Calcs error for each of the combs. \n",
    "        error = 0\n",
    "        # Calcs the error for one step head prediction. It is slow but nice to decrease error.\n",
    "        for i in range(len(tes)):\n",
    "            ml = SARIMAX(list(tra['Close'])+list(tes['Close'][0:i]), exog = list(tra['Volume'])+list(tes['Volume'][0:i]), order=posibles_coefs[j], seasonal_order=(0,0,0,0)).fit()\n",
    "            error += (ml.get_forecast(steps = 1, exog = tes['Volume'][i]).predicted_mean[0] - tes['Close'][i])**2\n",
    "        errores[j] = error\n",
    "        pvalues = ml.pvalues\n",
    "        if pvalues[pvalues > 0.1].any():\n",
    "            errores[j] = np.inf\n",
    "    return SARIMAX(list(tra['Close'])+list(tes['Close']), \n",
    "                   exog = list(tra['Volume'])+list(tes['Volume']), \n",
    "                   order=posibles_coefs[errores.index(min(errores))]\n",
    "                   , seasonal_order=(0,0,0,0)).fit()"
   ]
  },
  {
   "cell_type": "code",
   "execution_count": null,
   "metadata": {},
   "outputs": [],
   "source": [
    "def train_and_save(sector,list_sector):\n",
    "    for i in range(len(list_sector)):\n",
    "        tra = list_sector[i][['Close', 'Volume']][tr_start:tr_end].dropna()\n",
    "        tes = list_sector[i][['Close', 'Volume']][te_start:te_end].dropna()\n",
    "        ml = auto_arimax(posibles_coefs,tra,tes)\n",
    "        nombre = list(companies[sector].keys())[i]\n",
    "        with open('modelosEntrenados/'+sector+'/'+nombre+'.pkl', 'wb') as outfile:\n",
    "            pickle.dump(ml, outfile)\n",
    "train_and_save('Health',health)"
   ]
  },
  {
   "cell_type": "code",
   "execution_count": null,
   "metadata": {},
   "outputs": [],
   "source": [
    "th1 = threading.Thread(target=train_and_save, args=('Health',health))\n",
    "th2 = threading.Thread(target=train_and_save, args=('Banking',banking))\n",
    "th3 = threading.Thread(target=train_and_save, args=('Technology',technology))\n",
    "th4 = threading.Thread(target=train_and_save, args=('RenewableEnergies',renewable_energy))\n",
    "th5 = threading.Thread(target=train_and_save, args=('RawMaterials',raw_materials))\n",
    "th1.start()\n",
    "th2.start()\n",
    "th3.start()\n",
    "th4.start()\n",
    "th5.start()\n",
    "th1.join()\n",
    "th2.join()\n",
    "th3.join()\n",
    "th4.join()\n",
    "th5.join()"
   ]
  }
 ],
 "metadata": {
  "kernelspec": {
   "display_name": "gpu_tf",
   "language": "python",
   "name": "python3"
  },
  "language_info": {
   "codemirror_mode": {
    "name": "ipython",
    "version": 3
   },
   "file_extension": ".py",
   "mimetype": "text/x-python",
   "name": "python",
   "nbconvert_exporter": "python",
   "pygments_lexer": "ipython3",
   "version": "3.8.12"
  }
 },
 "nbformat": 4,
 "nbformat_minor": 2
}
