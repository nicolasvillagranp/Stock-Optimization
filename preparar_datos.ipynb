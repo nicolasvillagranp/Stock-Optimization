{
 "cells": [
  {
   "cell_type": "code",
   "execution_count": 12,
   "metadata": {},
   "outputs": [],
   "source": [
    "import json\n",
    "import os\n",
    "import pandas as pd"
   ]
  },
  {
   "cell_type": "markdown",
   "metadata": {},
   "source": [
    "#### Programa que procesa las predicciones de LSTM para que puedan ser usadas posteriormente de manera sencilla."
   ]
  },
  {
   "cell_type": "code",
   "execution_count": 13,
   "metadata": {},
   "outputs": [
    {
     "data": {
      "text/plain": [
       "29"
      ]
     },
     "execution_count": 13,
     "metadata": {},
     "output_type": "execute_result"
    }
   ],
   "source": [
    "# Si no relleneramos con cero tendriamos que coger solo 9, inviable logicamente.\n",
    "companies = json.load(open(\"companies.json\", \"r\"))\n",
    "len(max(list(companies.values()), key = lambda x: len(list(x.keys()))))"
   ]
  },
  {
   "cell_type": "code",
   "execution_count": 14,
   "metadata": {},
   "outputs": [],
   "source": [
    "\n",
    "\"\"\" Uno de los dos fors tiene que estar siempre comentado. En el caso de ser el primero se cargaran los datos\n",
    "sobre reales.json abajo. Si fuera el segundo se cargarian los datos sobre preparado_optimizador.json\n",
    "\"\"\"\n",
    "def get_file_names(folder):\n",
    "    return os.listdir(folder)\n",
    "names = get_file_names('LSTM\\data_pred')\n",
    "predicciones = {}\n",
    "# for i in names:\n",
    "#     df = pd.read_csv('LSTM\\data_pred\\\\'+i)\n",
    "#     predicciones[i[:-4]] = [100*df['Actual'][len(df)-6]/(df['Actual'].max())]+(100*df['Prediction'][-5:]/(df['Actual'].max())).tolist()\n",
    "for i in names:\n",
    "    df = pd.read_csv('LSTM\\data_pred\\\\'+i)\n",
    "    predicciones[i[:-4]] = (100*df['Actual'][-6:]/(df['Actual'].max())).tolist()"
   ]
  },
  {
   "cell_type": "code",
   "execution_count": 15,
   "metadata": {},
   "outputs": [
    {
     "name": "stdout",
     "output_type": "stream",
     "text": [
      "{'JPM': [[52.60363134604729, 50.38920093669482, 51.304487858861705, 51.983584799960255, 53.04652670709984, 54.16849581129571], 0.12307530337516036], 'BAC': [[28.779383040817752, 27.453397893940927, 27.81918969078134, 28.093508808774722, 29.190875206700696, 30.882661143013152], 0.049249733320092914], 'GS': [[66.54802980254425, 62.945605945356355, 62.89057912957909, 60.106177675071024, 59.240929287833445, 61.25453432421936], 0.120369627768479], 'V': [[55.99626622952988, 53.12742545843084, 54.389730525406684, 55.14379555842534, 53.01268191271505, 58.04541299606591], 0.06339896580435349], 'WFC': [[25.89735340731794, 23.961648398232427, 25.281437040997947, 25.545408615424353, 25.89735340731794, 26.821236610468734], 0.07518212331383273], 'C': [[25.138872732129247, 22.204830915529215, 23.170892604153792, 23.636059332512826, 24.459022455216115, 26.391202951940734], 0.08678321654712247], 'MS': [[50.79238817363434, 49.49031089998477, 48.8132274156461, 46.078869268533154, 44.51640543301146, 46.547614610516334], 0.05886896883148621], 'USB': [[27.215733803899298, 27.760828283984267, 29.123619371583555, 30.8757502174345, 29.707652532126847, 32.46373641231594], 0.08231017910087927], 'AXP': [[24.48351227166381, 21.737786810230954, 24.36076325405424, 23.394423513062403, 19.743709067697576, 24.820977063110597], 0.09485490352001893], 'PNC': [[19.85918132322429, 20.3385298552301, 21.235768452704317, 22.391120820927416, 22.26822353569988, 24.689565300621872], 0.0617386755493117], 'BK': [[35.1906041392342, 34.06578136216594, 34.70318983053017, 35.3405982988944, 34.62819275070007, 38.49010503958292], 0.04574134829804251], 'SCHW': [[64.70054403144808, 63.499396930504744, 66.08857305375196, 67.28974086412806, 67.63674811970405, 68.46421421565734], 0.13454710372985462], 'COF': [[8.368071328833308, 8.05972453603195, 9.6684440021844, 9.748866371187558, 8.34126038421573, 12.32279030842258], 0.1291569961839988], 'AMTD': [[0.4044359762054341, 0.32379251303546097, 0.24314776806075108, 0.1625043048907779, 0.0012160967460948843, 0.0012160967460948843], 0.12322300816955192], 'STT': [[50.390048159747415, 48.490239905173226, 47.694959963020544, 46.94389328306552, 46.259059187437444, 49.572696510083745], 0.10889323955670284], 'TFC': [[13.55915072442841, 16.298217449763484, 16.710970661030906, 17.64901702885535, 16.560886902014612, 18.999786109317085], 0.1017399031355497], 'FITB': [[12.630447372542006, 13.341755681639167, 14.764331582097517, 16.745788947048663, 16.339334327160277, 18.49498216659186], 0.08966729548052157], 'KEY': [[24.67813460529336, 25.597133104837642, 26.516123076897195, 27.43513010392619, 26.34901848655053, 28.604725796597506], 0.05705171117925174]}\n"
     ]
    }
   ],
   "source": [
    "# Para cada sector quiero las empresas con sus cinco predicciones y el riesgo.\n",
    "sector = {}\n",
    "std_dict = json.load(open(\"std.json\", \"r\"))\n",
    "for i in companies.keys():\n",
    "    sector[i] = {}\n",
    "    for j in companies[i].keys():\n",
    "        sector[i][j] = [predicciones[j], std_dict[j]]\n",
    "print(sector['Banking'])"
   ]
  },
  {
   "cell_type": "code",
   "execution_count": 16,
   "metadata": {},
   "outputs": [],
   "source": [
    "# Save the sector dictionary \n",
    "with open('reales.json', 'w') as fp:\n",
    "    json.dump(sector, fp)"
   ]
  }
 ],
 "metadata": {
  "kernelspec": {
   "display_name": "gpu_tf",
   "language": "python",
   "name": "python3"
  },
  "language_info": {
   "codemirror_mode": {
    "name": "ipython",
    "version": 3
   },
   "file_extension": ".py",
   "mimetype": "text/x-python",
   "name": "python",
   "nbconvert_exporter": "python",
   "pygments_lexer": "ipython3",
   "version": "3.8.12"
  }
 },
 "nbformat": 4,
 "nbformat_minor": 2
}
