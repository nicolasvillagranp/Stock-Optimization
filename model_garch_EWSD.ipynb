{
 "cells": [
  {
   "cell_type": "code",
   "execution_count": 6,
   "metadata": {},
   "outputs": [],
   "source": [
    "import warnings\n",
    "import matplotlib.pyplot as plt\n",
    "import warnings\n",
    "from arch import arch_model\n",
    "import pandas as pd\n",
    "import os\n",
    "import time\n",
    "from IPython.display import clear_output"
   ]
  },
  {
   "cell_type": "markdown",
   "metadata": {},
   "source": [
    "#### Programa que enseña la prediccion de LSTM con intervalos de confianza y que calcula la estimación del riesgo para cada accion y la guarda en std.json"
   ]
  },
  {
   "cell_type": "code",
   "execution_count": 7,
   "metadata": {},
   "outputs": [],
   "source": [
    "warnings.filterwarnings(\"ignore\")"
   ]
  },
  {
   "cell_type": "code",
   "execution_count": 8,
   "metadata": {},
   "outputs": [],
   "source": [
    "def autoGarch(returns):\n",
    "    # Define a range of candidate values for p and q\n",
    "    p_values = range(1, 3)\n",
    "    q_values = range(0, 3)\n",
    "\n",
    "    best_aic = float(\"inf\")\n",
    "    best_order = None\n",
    "\n",
    "    # Loop through all combinations of p and q\n",
    "    for t in p_values:\n",
    "        for s in q_values:\n",
    "            model = arch_model(returns, vol='Garch', p=t, q=s, )\n",
    "            result = model.fit(disp=\"off\")\n",
    "            aic = result.aic\n",
    "\n",
    "            if abs(aic) < abs(best_aic):\n",
    "                best_aic = aic\n",
    "                best_order = (t, s)\n",
    "    # Print the best order\n",
    "    print(f\"Best Order: {best_order} with AIC: {best_aic}\")\n",
    "    # Now, you can use the best_order to estimate the GARCH model with the optimal parameters\n",
    "    best_model = arch_model(returns, vol='Garch', p=best_order[0], q=best_order[1])\n",
    "    best_result = best_model.fit(disp=\"off\")\n",
    "    return best_result\n"
   ]
  },
  {
   "cell_type": "code",
   "execution_count": 11,
   "metadata": {},
   "outputs": [
    {
     "name": "stdout",
     "output_type": "stream",
     "text": [
      "Best Order: (2, 0) with AIC: -86.37183769046163\n"
     ]
    },
    {
     "data": {
      "image/png": "[encoded data removed]",
      "text/plain": [
       "<Figure size 432x288 with 1 Axes>"
      ]
     },
     "metadata": {
      "needs_background": "light"
     },
     "output_type": "display_data"
    },
    {
     "ename": "KeyboardInterrupt",
     "evalue": "",
     "output_type": "error",
     "traceback": [
      "\u001b[1;31m---------------------------------------------------------------------------\u001b[0m",
      "\u001b[1;31mKeyboardInterrupt\u001b[0m                         Traceback (most recent call last)",
      "\u001b[1;32m~\\AppData\\Local\\Temp/ipykernel_49264/3075109764.py\u001b[0m in \u001b[0;36m<module>\u001b[1;34m\u001b[0m\n\u001b[0;32m     25\u001b[0m     \u001b[0mplt\u001b[0m\u001b[1;33m.\u001b[0m\u001b[0mlegend\u001b[0m\u001b[1;33m(\u001b[0m\u001b[1;33m)\u001b[0m\u001b[1;33m\u001b[0m\u001b[1;33m\u001b[0m\u001b[0m\n\u001b[0;32m     26\u001b[0m     \u001b[0mplt\u001b[0m\u001b[1;33m.\u001b[0m\u001b[0mshow\u001b[0m\u001b[1;33m(\u001b[0m\u001b[1;33m)\u001b[0m\u001b[1;33m\u001b[0m\u001b[1;33m\u001b[0m\u001b[0m\n\u001b[1;32m---> 27\u001b[1;33m     \u001b[0mtime\u001b[0m\u001b[1;33m.\u001b[0m\u001b[0msleep\u001b[0m\u001b[1;33m(\u001b[0m\u001b[1;36m2\u001b[0m\u001b[1;33m)\u001b[0m\u001b[1;33m\u001b[0m\u001b[1;33m\u001b[0m\u001b[0m\n\u001b[0m\u001b[0;32m     28\u001b[0m     \u001b[0mclear_output\u001b[0m\u001b[1;33m(\u001b[0m\u001b[0mwait\u001b[0m\u001b[1;33m=\u001b[0m\u001b[1;32mTrue\u001b[0m\u001b[1;33m)\u001b[0m\u001b[1;33m\u001b[0m\u001b[1;33m\u001b[0m\u001b[0m\n",
      "\u001b[1;31mKeyboardInterrupt\u001b[0m: "
     ]
    }
   ],
   "source": [
    "# Vamos a coger una media del garch y del EWSD. Pintamos la estimacion\n",
    "# con los intervalos de confianza (aproximados)\n",
    "def get_file_names(folder):\n",
    "    return os.listdir(folder)\n",
    "names = get_file_names('LSTM\\data_pred')\n",
    "for i in names:\n",
    "    df = pd.read_csv('LSTM\\data_pred\\\\'+i)\n",
    "    df = df.drop([df.columns[0],df.columns[3]], axis=1)\n",
    "    train = df.iloc[:-5]\n",
    "    test = df.iloc[-5:]\n",
    "    returns = train['Actual']/(train['Actual'].max())\n",
    "    train['ewm_std'] = returns.ewm(span=5).std() # 5 suele ser un hiperparámetro razonable para\n",
    "                                                # pesar mas las obsv cercanas\n",
    "    model = autoGarch(returns)\n",
    "    forecast = model.forecast(horizon=1)\n",
    "    std = ((forecast.variance.iloc[-1]**(1/2)+train['ewm_std'].iloc[-1])/2*train['Actual'].max()).iloc[0]\n",
    "    plt.plot(train['Actual'][70:], label='TRAIN__REAL')\n",
    "    plt.plot(test['Prediction'], label='PREDICTION__TEST')\n",
    "    plt.plot(test['Actual'], label='TEST__REAL')\n",
    "    plt.plot(test['Prediction']+2*std, label='upper bound')\n",
    "    plt.plot(test['Prediction']-2*std, label='lower bound')\n",
    "    plt.fill_between(test.index, test['Prediction']+2*std, test['Prediction']-2*std, alpha=0.2)\n",
    "    plt.legend()\n",
    "    plt.show()\n",
    "    time.sleep(2)\n",
    "    clear_output(wait=True)"
   ]
  },
  {
   "cell_type": "code",
   "execution_count": 16,
   "metadata": {},
   "outputs": [],
   "source": [
    "total_std = []\n",
    "# Hacemos el proceso para guardarnoslo.\n",
    "for i in names:\n",
    "    df = pd.read_csv('LSTM\\data_pred\\\\'+i)\n",
    "    df = df.drop([df.columns[0],df.columns[3]], axis=1)\n",
    "    train = df.iloc[:-5]\n",
    "    test = df.iloc[-5:]\n",
    "    returns = train['Actual']/(train['Actual'].max())\n",
    "    train['ewm_std'] = returns.ewm(span=5).std() # 5 suele ser un hiperparámetro razonable para\n",
    "                                                # pesar mas las obsv cercanas\n",
    "    model = autoGarch(returns)\n",
    "    forecast = model.forecast(horizon=1)\n",
    "    std = ((forecast.variance.iloc[-1]**(1/2)+train['ewm_std'].iloc[-1])/2).iloc[0]\n",
    "    total_std.append(std)\n",
    "    clear_output(wait=False)\n"
   ]
  },
  {
   "cell_type": "code",
   "execution_count": 17,
   "metadata": {},
   "outputs": [],
   "source": [
    "import json\n",
    "dic = {}\n",
    "for i in range(len(names)):\n",
    "    dic[names[i][:-4]] = total_std[i]\n",
    "with open('std.json', 'w') as fp:\n",
    "    json.dump(dic, fp)\n"
   ]
  }
 ],
 "metadata": {
  "kernelspec": {
   "display_name": "gpu_tf",
   "language": "python",
   "name": "python3"
  },
  "language_info": {
   "codemirror_mode": {
    "name": "ipython",
    "version": 3
   },
   "file_extension": ".py",
   "mimetype": "text/x-python",
   "name": "python",
   "nbconvert_exporter": "python",
   "pygments_lexer": "ipython3",
   "version": "3.8.12"
  }
 },
 "nbformat": 4,
 "nbformat_minor": 2
}
